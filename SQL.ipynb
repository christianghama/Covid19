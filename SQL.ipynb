{
 "cells": [
  {
   "cell_type": "code",
   "execution_count": null,
   "id": "3d30180d-1d11-48e3-91bc-b94c7047909e",
   "metadata": {},
   "outputs": [],
   "source": [
    "select\n",
    "sum(cumulative_confirmed) as total_cases_worldwide\n",
    "from `bigquery-public-data.covid19_open_data.covid19_open_data`\n",
    "where\n",
    "date = '2020-06-10'"
   ]
  }
 ],
 "metadata": {
  "kernelspec": {
   "display_name": "Python 3 (ipykernel)",
   "language": "python",
   "name": "python3"
  },
  "language_info": {
   "codemirror_mode": {
    "name": "ipython",
    "version": 3
   },
   "file_extension": ".py",
   "mimetype": "text/x-python",
   "name": "python",
   "nbconvert_exporter": "python",
   "pygments_lexer": "ipython3",
   "version": "3.11.5"
  }
 },
 "nbformat": 4,
 "nbformat_minor": 5
}
